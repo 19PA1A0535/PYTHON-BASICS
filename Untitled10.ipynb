{
  "nbformat": 4,
  "nbformat_minor": 0,
  "metadata": {
    "colab": {
      "name": "Untitled10.ipynb",
      "provenance": [],
      "collapsed_sections": [],
      "authorship_tag": "ABX9TyOBnZkZG+5bIDW3c2o0Q3OJ",
      "include_colab_link": true
    },
    "kernelspec": {
      "name": "python3",
      "display_name": "Python 3"
    }
  },
  "cells": [
    {
      "cell_type": "markdown",
      "metadata": {
        "id": "view-in-github",
        "colab_type": "text"
      },
      "source": [
        "<a href=\"https://colab.research.google.com/github/19PA1A0535/PYTHON-BASICS/blob/master/Untitled10.ipynb\" target=\"_parent\"><img src=\"https://colab.research.google.com/assets/colab-badge.svg\" alt=\"Open In Colab\"/></a>"
      ]
    },
    {
      "cell_type": "code",
      "metadata": {
        "id": "Gt-BrB5yX1oU",
        "colab_type": "code",
        "colab": {
          "base_uri": "https://localhost:8080/",
          "height": 406
        },
        "outputId": "5d5fae7f-6cd4-4e99-8ae2-13f964aca933"
      },
      "source": [
        "import pandas as pd \n",
        "import numpy as np\n",
        "import matplotlib.pyplot as plt\n",
        "pp=pd.read_csv('iris-flower-dataset.zip')\n",
        "pp"
      ],
      "execution_count": 4,
      "outputs": [
        {
          "output_type": "execute_result",
          "data": {
            "text/html": [
              "<div>\n",
              "<style scoped>\n",
              "    .dataframe tbody tr th:only-of-type {\n",
              "        vertical-align: middle;\n",
              "    }\n",
              "\n",
              "    .dataframe tbody tr th {\n",
              "        vertical-align: top;\n",
              "    }\n",
              "\n",
              "    .dataframe thead th {\n",
              "        text-align: right;\n",
              "    }\n",
              "</style>\n",
              "<table border=\"1\" class=\"dataframe\">\n",
              "  <thead>\n",
              "    <tr style=\"text-align: right;\">\n",
              "      <th></th>\n",
              "      <th>sepal_length</th>\n",
              "      <th>sepal_width</th>\n",
              "      <th>petal_length</th>\n",
              "      <th>petal_width</th>\n",
              "      <th>species</th>\n",
              "    </tr>\n",
              "  </thead>\n",
              "  <tbody>\n",
              "    <tr>\n",
              "      <th>0</th>\n",
              "      <td>5.1</td>\n",
              "      <td>3.5</td>\n",
              "      <td>1.4</td>\n",
              "      <td>0.2</td>\n",
              "      <td>Iris-setosa</td>\n",
              "    </tr>\n",
              "    <tr>\n",
              "      <th>1</th>\n",
              "      <td>4.9</td>\n",
              "      <td>3.0</td>\n",
              "      <td>1.4</td>\n",
              "      <td>0.2</td>\n",
              "      <td>Iris-setosa</td>\n",
              "    </tr>\n",
              "    <tr>\n",
              "      <th>2</th>\n",
              "      <td>4.7</td>\n",
              "      <td>3.2</td>\n",
              "      <td>1.3</td>\n",
              "      <td>0.2</td>\n",
              "      <td>Iris-setosa</td>\n",
              "    </tr>\n",
              "    <tr>\n",
              "      <th>3</th>\n",
              "      <td>4.6</td>\n",
              "      <td>3.1</td>\n",
              "      <td>1.5</td>\n",
              "      <td>0.2</td>\n",
              "      <td>Iris-setosa</td>\n",
              "    </tr>\n",
              "    <tr>\n",
              "      <th>4</th>\n",
              "      <td>5.0</td>\n",
              "      <td>3.6</td>\n",
              "      <td>1.4</td>\n",
              "      <td>0.2</td>\n",
              "      <td>Iris-setosa</td>\n",
              "    </tr>\n",
              "    <tr>\n",
              "      <th>...</th>\n",
              "      <td>...</td>\n",
              "      <td>...</td>\n",
              "      <td>...</td>\n",
              "      <td>...</td>\n",
              "      <td>...</td>\n",
              "    </tr>\n",
              "    <tr>\n",
              "      <th>145</th>\n",
              "      <td>6.7</td>\n",
              "      <td>3.0</td>\n",
              "      <td>5.2</td>\n",
              "      <td>2.3</td>\n",
              "      <td>Iris-virginica</td>\n",
              "    </tr>\n",
              "    <tr>\n",
              "      <th>146</th>\n",
              "      <td>6.3</td>\n",
              "      <td>2.5</td>\n",
              "      <td>5.0</td>\n",
              "      <td>1.9</td>\n",
              "      <td>Iris-virginica</td>\n",
              "    </tr>\n",
              "    <tr>\n",
              "      <th>147</th>\n",
              "      <td>6.5</td>\n",
              "      <td>3.0</td>\n",
              "      <td>5.2</td>\n",
              "      <td>2.0</td>\n",
              "      <td>Iris-virginica</td>\n",
              "    </tr>\n",
              "    <tr>\n",
              "      <th>148</th>\n",
              "      <td>6.2</td>\n",
              "      <td>3.4</td>\n",
              "      <td>5.4</td>\n",
              "      <td>2.3</td>\n",
              "      <td>Iris-virginica</td>\n",
              "    </tr>\n",
              "    <tr>\n",
              "      <th>149</th>\n",
              "      <td>5.9</td>\n",
              "      <td>3.0</td>\n",
              "      <td>5.1</td>\n",
              "      <td>1.8</td>\n",
              "      <td>Iris-virginica</td>\n",
              "    </tr>\n",
              "  </tbody>\n",
              "</table>\n",
              "<p>150 rows × 5 columns</p>\n",
              "</div>"
            ],
            "text/plain": [
              "     sepal_length  sepal_width  petal_length  petal_width         species\n",
              "0             5.1          3.5           1.4          0.2     Iris-setosa\n",
              "1             4.9          3.0           1.4          0.2     Iris-setosa\n",
              "2             4.7          3.2           1.3          0.2     Iris-setosa\n",
              "3             4.6          3.1           1.5          0.2     Iris-setosa\n",
              "4             5.0          3.6           1.4          0.2     Iris-setosa\n",
              "..            ...          ...           ...          ...             ...\n",
              "145           6.7          3.0           5.2          2.3  Iris-virginica\n",
              "146           6.3          2.5           5.0          1.9  Iris-virginica\n",
              "147           6.5          3.0           5.2          2.0  Iris-virginica\n",
              "148           6.2          3.4           5.4          2.3  Iris-virginica\n",
              "149           5.9          3.0           5.1          1.8  Iris-virginica\n",
              "\n",
              "[150 rows x 5 columns]"
            ]
          },
          "metadata": {
            "tags": []
          },
          "execution_count": 4
        }
      ]
    },
    {
      "cell_type": "code",
      "metadata": {
        "id": "pDprT84waqYF",
        "colab_type": "code",
        "colab": {
          "base_uri": "https://localhost:8080/",
          "height": 282
        },
        "outputId": "040a096a-02a6-4492-d832-35755ed1b0f7"
      },
      "source": [
        "x=pp['sepal_length']\n",
        "y=pp['petal_length']\n",
        "plt.scatter(x,y)"
      ],
      "execution_count": 6,
      "outputs": [
        {
          "output_type": "execute_result",
          "data": {
            "text/plain": [
              "<matplotlib.collections.PathCollection at 0x7fdb0148af98>"
            ]
          },
          "metadata": {
            "tags": []
          },
          "execution_count": 6
        },
        {
          "output_type": "display_data",
          "data": {
            "image/png": "[encoded data removed]",
            "text/plain": [
              "<Figure size 432x288 with 1 Axes>"
            ]
          },
          "metadata": {
            "tags": []
          }
        }
      ]
    },
    {
      "cell_type": "code",
      "metadata": {
        "id": "JkjLXs98eG0m",
        "colab_type": "code",
        "colab": {
          "base_uri": "https://localhost:8080/",
          "height": 317
        },
        "outputId": "20e8fa20-3b26-4476-c3a4-580fd8aa26c0"
      },
      "source": [
        "x=pp['petal_width']\n",
        "plt.hist(x)"
      ],
      "execution_count": 11,
      "outputs": [
        {
          "output_type": "execute_result",
          "data": {
            "text/plain": [
              "(array([41.,  8.,  1.,  7.,  8., 33.,  6., 23.,  9., 14.]),\n",
              " array([0.1 , 0.34, 0.58, 0.82, 1.06, 1.3 , 1.54, 1.78, 2.02, 2.26, 2.5 ]),\n",
              " <a list of 10 Patch objects>)"
            ]
          },
          "metadata": {
            "tags": []
          },
          "execution_count": 11
        },
        {
          "output_type": "display_data",
          "data": {
            "image/png": "[encoded data removed]",
            "text/plain": [
              "<Figure size 432x288 with 1 Axes>"
            ]
          },
          "metadata": {
            "tags": []
          }
        }
      ]
    },
    {
      "cell_type": "code",
      "metadata": {
        "id": "wwT2C-Z3e7M1",
        "colab_type": "code",
        "colab": {
          "base_uri": "https://localhost:8080/",
          "height": 167
        },
        "outputId": "7c6f29c0-187e-47d4-c52b-3565a0ab0816"
      },
      "source": [
        "import numpy as np\n",
        "group=pp.groupby('species')\n",
        "group.agg(np.mean)"
      ],
      "execution_count": 12,
      "outputs": [
        {
          "output_type": "execute_result",
          "data": {
            "text/html": [
              "<div>\n",
              "<style scoped>\n",
              "    .dataframe tbody tr th:only-of-type {\n",
              "        vertical-align: middle;\n",
              "    }\n",
              "\n",
              "    .dataframe tbody tr th {\n",
              "        vertical-align: top;\n",
              "    }\n",
              "\n",
              "    .dataframe thead th {\n",
              "        text-align: right;\n",
              "    }\n",
              "</style>\n",
              "<table border=\"1\" class=\"dataframe\">\n",
              "  <thead>\n",
              "    <tr style=\"text-align: right;\">\n",
              "      <th></th>\n",
              "      <th>sepal_length</th>\n",
              "      <th>sepal_width</th>\n",
              "      <th>petal_length</th>\n",
              "      <th>petal_width</th>\n",
              "    </tr>\n",
              "    <tr>\n",
              "      <th>species</th>\n",
              "      <th></th>\n",
              "      <th></th>\n",
              "      <th></th>\n",
              "      <th></th>\n",
              "    </tr>\n",
              "  </thead>\n",
              "  <tbody>\n",
              "    <tr>\n",
              "      <th>Iris-setosa</th>\n",
              "      <td>5.006</td>\n",
              "      <td>3.418</td>\n",
              "      <td>1.464</td>\n",
              "      <td>0.244</td>\n",
              "    </tr>\n",
              "    <tr>\n",
              "      <th>Iris-versicolor</th>\n",
              "      <td>5.936</td>\n",
              "      <td>2.770</td>\n",
              "      <td>4.260</td>\n",
              "      <td>1.326</td>\n",
              "    </tr>\n",
              "    <tr>\n",
              "      <th>Iris-virginica</th>\n",
              "      <td>6.588</td>\n",
              "      <td>2.974</td>\n",
              "      <td>5.552</td>\n",
              "      <td>2.026</td>\n",
              "    </tr>\n",
              "  </tbody>\n",
              "</table>\n",
              "</div>"
            ],
            "text/plain": [
              "                 sepal_length  sepal_width  petal_length  petal_width\n",
              "species                                                              \n",
              "Iris-setosa             5.006        3.418         1.464        0.244\n",
              "Iris-versicolor         5.936        2.770         4.260        1.326\n",
              "Iris-virginica          6.588        2.974         5.552        2.026"
            ]
          },
          "metadata": {
            "tags": []
          },
          "execution_count": 12
        }
      ]
    },
    {
      "cell_type": "markdown",
      "metadata": {
        "id": "BwTdJuSRjOMm",
        "colab_type": "text"
      },
      "source": [
        "Hence out of three classes Iris-virginica has maximum sepal length"
      ]
    },
    {
      "cell_type": "code",
      "metadata": {
        "id": "Xn7kCIoujrGO",
        "colab_type": "code",
        "colab": {
          "base_uri": "https://localhost:8080/",
          "height": 347
        },
        "outputId": "8674c146-3a42-47eb-bd3f-07c09dc3e064"
      },
      "source": [
        "df=pd.DataFrame([[70,37,66],[75,73,77],[72,77,88],[68,66,88],[52,43,95],[48,44,99],[65,44,93],[43,55,88],[89,63,95],[95,40,45]],columns=['cse-a','cse-b','cse-c'],dtype=float)\n",
        "df"
      ],
      "execution_count": 18,
      "outputs": [
        {
          "output_type": "execute_result",
          "data": {
            "text/html": [
              "<div>\n",
              "<style scoped>\n",
              "    .dataframe tbody tr th:only-of-type {\n",
              "        vertical-align: middle;\n",
              "    }\n",
              "\n",
              "    .dataframe tbody tr th {\n",
              "        vertical-align: top;\n",
              "    }\n",
              "\n",
              "    .dataframe thead th {\n",
              "        text-align: right;\n",
              "    }\n",
              "</style>\n",
              "<table border=\"1\" class=\"dataframe\">\n",
              "  <thead>\n",
              "    <tr style=\"text-align: right;\">\n",
              "      <th></th>\n",
              "      <th>cse-a</th>\n",
              "      <th>cse-b</th>\n",
              "      <th>cse-c</th>\n",
              "    </tr>\n",
              "  </thead>\n",
              "  <tbody>\n",
              "    <tr>\n",
              "      <th>0</th>\n",
              "      <td>70.0</td>\n",
              "      <td>37.0</td>\n",
              "      <td>66.0</td>\n",
              "    </tr>\n",
              "    <tr>\n",
              "      <th>1</th>\n",
              "      <td>75.0</td>\n",
              "      <td>73.0</td>\n",
              "      <td>77.0</td>\n",
              "    </tr>\n",
              "    <tr>\n",
              "      <th>2</th>\n",
              "      <td>72.0</td>\n",
              "      <td>77.0</td>\n",
              "      <td>88.0</td>\n",
              "    </tr>\n",
              "    <tr>\n",
              "      <th>3</th>\n",
              "      <td>68.0</td>\n",
              "      <td>66.0</td>\n",
              "      <td>88.0</td>\n",
              "    </tr>\n",
              "    <tr>\n",
              "      <th>4</th>\n",
              "      <td>52.0</td>\n",
              "      <td>43.0</td>\n",
              "      <td>95.0</td>\n",
              "    </tr>\n",
              "    <tr>\n",
              "      <th>5</th>\n",
              "      <td>48.0</td>\n",
              "      <td>44.0</td>\n",
              "      <td>99.0</td>\n",
              "    </tr>\n",
              "    <tr>\n",
              "      <th>6</th>\n",
              "      <td>65.0</td>\n",
              "      <td>44.0</td>\n",
              "      <td>93.0</td>\n",
              "    </tr>\n",
              "    <tr>\n",
              "      <th>7</th>\n",
              "      <td>43.0</td>\n",
              "      <td>55.0</td>\n",
              "      <td>88.0</td>\n",
              "    </tr>\n",
              "    <tr>\n",
              "      <th>8</th>\n",
              "      <td>89.0</td>\n",
              "      <td>63.0</td>\n",
              "      <td>95.0</td>\n",
              "    </tr>\n",
              "    <tr>\n",
              "      <th>9</th>\n",
              "      <td>95.0</td>\n",
              "      <td>40.0</td>\n",
              "      <td>45.0</td>\n",
              "    </tr>\n",
              "  </tbody>\n",
              "</table>\n",
              "</div>"
            ],
            "text/plain": [
              "   cse-a  cse-b  cse-c\n",
              "0   70.0   37.0   66.0\n",
              "1   75.0   73.0   77.0\n",
              "2   72.0   77.0   88.0\n",
              "3   68.0   66.0   88.0\n",
              "4   52.0   43.0   95.0\n",
              "5   48.0   44.0   99.0\n",
              "6   65.0   44.0   93.0\n",
              "7   43.0   55.0   88.0\n",
              "8   89.0   63.0   95.0\n",
              "9   95.0   40.0   45.0"
            ]
          },
          "metadata": {
            "tags": []
          },
          "execution_count": 18
        }
      ]
    },
    {
      "cell_type": "code",
      "metadata": {
        "id": "rbrKOSuxpZ4-",
        "colab_type": "code",
        "colab": {
          "base_uri": "https://localhost:8080/",
          "height": 282
        },
        "outputId": "14b1fa92-d70d-47fd-c910-7ffdd418d850"
      },
      "source": [
        " import seaborn as sn\n",
        " df=pd.DataFrame([[70,37,66],[75,73,77],[72,77,88],[68,66,88],[52,43,95],[48,44,99],[65,44,93],[43,55,88],[89,63,95],[95,40,45]],columns=['cse-a','cse-b','cse-c'],dtype=float,)\n",
        "df\n",
        "a=df.boxplot(column=[\"cse-a\",\"cse-b\",\"cse-c\"])\n",
        "a\n"
      ],
      "execution_count": 17,
      "outputs": [
        {
          "output_type": "execute_result",
          "data": {
            "text/plain": [
              "<matplotlib.axes._subplots.AxesSubplot at 0x7fdafbb0e4e0>"
            ]
          },
          "metadata": {
            "tags": []
          },
          "execution_count": 17
        },
        {
          "output_type": "display_data",
          "data": {
            "image/png": "[encoded data removed]",
            "text/plain": [
              "<Figure size 432x288 with 1 Axes>"
            ]
          },
          "metadata": {
            "tags": []
          }
        }
      ]
    },
    {
      "cell_type": "code",
      "metadata": {
        "id": "PJt8zIIYt64P",
        "colab_type": "code",
        "colab": {
          "base_uri": "https://localhost:8080/",
          "height": 443
        },
        "outputId": "8fa8349a-9d2e-4171-9137-53421bcc4e93"
      },
      "source": [
        "import pandas as pd \n",
        "import numpy as np\n",
        "import matplotlib.pyplot as plt\n",
        "dd=pd.read_csv('students_placement_data.csv')\n",
        "dd"
      ],
      "execution_count": 19,
      "outputs": [
        {
          "output_type": "execute_result",
          "data": {
            "text/html": [
              "<div>\n",
              "<style scoped>\n",
              "    .dataframe tbody tr th:only-of-type {\n",
              "        vertical-align: middle;\n",
              "    }\n",
              "\n",
              "    .dataframe tbody tr th {\n",
              "        vertical-align: top;\n",
              "    }\n",
              "\n",
              "    .dataframe thead th {\n",
              "        text-align: right;\n",
              "    }\n",
              "</style>\n",
              "<table border=\"1\" class=\"dataframe\">\n",
              "  <thead>\n",
              "    <tr style=\"text-align: right;\">\n",
              "      <th></th>\n",
              "      <th>Roll No</th>\n",
              "      <th>Gender</th>\n",
              "      <th>Section</th>\n",
              "      <th>SSC Percentage</th>\n",
              "      <th>inter_Diploma_percentage</th>\n",
              "      <th>B.Tech_percentage</th>\n",
              "      <th>Backlogs</th>\n",
              "      <th>registered_for_ Placement_Training</th>\n",
              "      <th>placement status</th>\n",
              "    </tr>\n",
              "  </thead>\n",
              "  <tbody>\n",
              "    <tr>\n",
              "      <th>0</th>\n",
              "      <td>1</td>\n",
              "      <td>M</td>\n",
              "      <td>A</td>\n",
              "      <td>87.3</td>\n",
              "      <td>65.30</td>\n",
              "      <td>40.00</td>\n",
              "      <td>18</td>\n",
              "      <td>NO</td>\n",
              "      <td>Not placed</td>\n",
              "    </tr>\n",
              "    <tr>\n",
              "      <th>1</th>\n",
              "      <td>2</td>\n",
              "      <td>F</td>\n",
              "      <td>A</td>\n",
              "      <td>89.0</td>\n",
              "      <td>92.40</td>\n",
              "      <td>71.45</td>\n",
              "      <td>0</td>\n",
              "      <td>yes</td>\n",
              "      <td>Placed</td>\n",
              "    </tr>\n",
              "    <tr>\n",
              "      <th>2</th>\n",
              "      <td>3</td>\n",
              "      <td>F</td>\n",
              "      <td>A</td>\n",
              "      <td>67.0</td>\n",
              "      <td>68.00</td>\n",
              "      <td>45.26</td>\n",
              "      <td>13</td>\n",
              "      <td>yes</td>\n",
              "      <td>Not placed</td>\n",
              "    </tr>\n",
              "    <tr>\n",
              "      <th>3</th>\n",
              "      <td>4</td>\n",
              "      <td>M</td>\n",
              "      <td>A</td>\n",
              "      <td>71.0</td>\n",
              "      <td>70.40</td>\n",
              "      <td>36.47</td>\n",
              "      <td>17</td>\n",
              "      <td>yes</td>\n",
              "      <td>Not placed</td>\n",
              "    </tr>\n",
              "    <tr>\n",
              "      <th>4</th>\n",
              "      <td>5</td>\n",
              "      <td>M</td>\n",
              "      <td>A</td>\n",
              "      <td>67.0</td>\n",
              "      <td>65.50</td>\n",
              "      <td>42.52</td>\n",
              "      <td>17</td>\n",
              "      <td>yes</td>\n",
              "      <td>Not placed</td>\n",
              "    </tr>\n",
              "    <tr>\n",
              "      <th>...</th>\n",
              "      <td>...</td>\n",
              "      <td>...</td>\n",
              "      <td>...</td>\n",
              "      <td>...</td>\n",
              "      <td>...</td>\n",
              "      <td>...</td>\n",
              "      <td>...</td>\n",
              "      <td>...</td>\n",
              "      <td>...</td>\n",
              "    </tr>\n",
              "    <tr>\n",
              "      <th>112</th>\n",
              "      <td>113</td>\n",
              "      <td>M</td>\n",
              "      <td>B</td>\n",
              "      <td>81.1</td>\n",
              "      <td>78.60</td>\n",
              "      <td>35.84</td>\n",
              "      <td>16</td>\n",
              "      <td>NO</td>\n",
              "      <td>Not placed</td>\n",
              "    </tr>\n",
              "    <tr>\n",
              "      <th>113</th>\n",
              "      <td>114</td>\n",
              "      <td>M</td>\n",
              "      <td>B</td>\n",
              "      <td>81.3</td>\n",
              "      <td>85.12</td>\n",
              "      <td>68.50</td>\n",
              "      <td>0</td>\n",
              "      <td>NO</td>\n",
              "      <td>Not placed</td>\n",
              "    </tr>\n",
              "    <tr>\n",
              "      <th>114</th>\n",
              "      <td>115</td>\n",
              "      <td>M</td>\n",
              "      <td>B</td>\n",
              "      <td>83.5</td>\n",
              "      <td>89.90</td>\n",
              "      <td>76.30</td>\n",
              "      <td>0</td>\n",
              "      <td>NO</td>\n",
              "      <td>Not placed</td>\n",
              "    </tr>\n",
              "    <tr>\n",
              "      <th>115</th>\n",
              "      <td>116</td>\n",
              "      <td>M</td>\n",
              "      <td>B</td>\n",
              "      <td>85.5</td>\n",
              "      <td>90.63</td>\n",
              "      <td>74.50</td>\n",
              "      <td>0</td>\n",
              "      <td>NO</td>\n",
              "      <td>Not placed</td>\n",
              "    </tr>\n",
              "    <tr>\n",
              "      <th>116</th>\n",
              "      <td>117</td>\n",
              "      <td>M</td>\n",
              "      <td>B</td>\n",
              "      <td>80.0</td>\n",
              "      <td>83.33</td>\n",
              "      <td>65.53</td>\n",
              "      <td>0</td>\n",
              "      <td>NO</td>\n",
              "      <td>Not placed</td>\n",
              "    </tr>\n",
              "  </tbody>\n",
              "</table>\n",
              "<p>117 rows × 9 columns</p>\n",
              "</div>"
            ],
            "text/plain": [
              "     Roll No Gender  ... registered_for_ Placement_Training  placement status\n",
              "0          1      M  ...                                 NO        Not placed\n",
              "1          2      F  ...                                yes            Placed\n",
              "2          3      F  ...                                yes        Not placed\n",
              "3          4      M  ...                                yes        Not placed\n",
              "4          5      M  ...                                yes        Not placed\n",
              "..       ...    ...  ...                                ...               ...\n",
              "112      113      M  ...                                 NO        Not placed\n",
              "113      114      M  ...                                 NO        Not placed\n",
              "114      115      M  ...                                 NO        Not placed\n",
              "115      116      M  ...                                 NO        Not placed\n",
              "116      117      M  ...                                 NO        Not placed\n",
              "\n",
              "[117 rows x 9 columns]"
            ]
          },
          "metadata": {
            "tags": []
          },
          "execution_count": 19
        }
      ]
    },
    {
      "cell_type": "code",
      "metadata": {
        "id": "WkYGhVwIuVBe",
        "colab_type": "code",
        "colab": {
          "base_uri": "https://localhost:8080/",
          "height": 137
        },
        "outputId": "7f5084a0-77e5-4c83-fb7a-af8180e7f190"
      },
      "source": [
        "import numpy as np\n",
        "group=dd.groupby('Gender')\n",
        "group.agg(np.mean)"
      ],
      "execution_count": 23,
      "outputs": [
        {
          "output_type": "execute_result",
          "data": {
            "text/html": [
              "<div>\n",
              "<style scoped>\n",
              "    .dataframe tbody tr th:only-of-type {\n",
              "        vertical-align: middle;\n",
              "    }\n",
              "\n",
              "    .dataframe tbody tr th {\n",
              "        vertical-align: top;\n",
              "    }\n",
              "\n",
              "    .dataframe thead th {\n",
              "        text-align: right;\n",
              "    }\n",
              "</style>\n",
              "<table border=\"1\" class=\"dataframe\">\n",
              "  <thead>\n",
              "    <tr style=\"text-align: right;\">\n",
              "      <th></th>\n",
              "      <th>Roll No</th>\n",
              "      <th>SSC Percentage</th>\n",
              "      <th>inter_Diploma_percentage</th>\n",
              "      <th>B.Tech_percentage</th>\n",
              "      <th>Backlogs</th>\n",
              "    </tr>\n",
              "    <tr>\n",
              "      <th>Gender</th>\n",
              "      <th></th>\n",
              "      <th></th>\n",
              "      <th></th>\n",
              "      <th></th>\n",
              "      <th></th>\n",
              "    </tr>\n",
              "  </thead>\n",
              "  <tbody>\n",
              "    <tr>\n",
              "      <th>F</th>\n",
              "      <td>58.142857</td>\n",
              "      <td>82.911633</td>\n",
              "      <td>84.632653</td>\n",
              "      <td>71.199388</td>\n",
              "      <td>0.714286</td>\n",
              "    </tr>\n",
              "    <tr>\n",
              "      <th>M</th>\n",
              "      <td>59.617647</td>\n",
              "      <td>78.460000</td>\n",
              "      <td>77.991618</td>\n",
              "      <td>56.994265</td>\n",
              "      <td>6.558824</td>\n",
              "    </tr>\n",
              "  </tbody>\n",
              "</table>\n",
              "</div>"
            ],
            "text/plain": [
              "          Roll No  SSC Percentage  ...  B.Tech_percentage  Backlogs\n",
              "Gender                             ...                             \n",
              "F       58.142857       82.911633  ...          71.199388  0.714286\n",
              "M       59.617647       78.460000  ...          56.994265  6.558824\n",
              "\n",
              "[2 rows x 5 columns]"
            ]
          },
          "metadata": {
            "tags": []
          },
          "execution_count": 23
        }
      ]
    }
  ]
}